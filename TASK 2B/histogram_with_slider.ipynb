{
 "cells": [
  {
   "cell_type": "code",
   "execution_count": 1,
   "id": "7eddbc41-46a9-4c36-9772-241b4b285647",
   "metadata": {},
   "outputs": [
    {
     "name": "stdout",
     "output_type": "stream",
     "text": [
      "All packages loaded successfully!\n"
     ]
    }
   ],
   "source": [
    "import pyhepmc\n",
    "import ipywidgets as widgets\n",
    "import matplotlib.pyplot as plt\n",
    "import numpy as np\n",
    "\n",
    "print(\"All packages loaded successfully!\")"
   ]
  },
  {
   "cell_type": "code",
   "execution_count": 5,
   "id": "28d32048-49e9-4cc3-80e1-d0865c5ed4a8",
   "metadata": {},
   "outputs": [
    {
     "data": {
      "application/vnd.jupyter.widget-view+json": {
       "model_id": "ffff41d5bf844805ae5cb020425c551a",
       "version_major": 2,
       "version_minor": 0
      },
      "text/plain": [
       "interactive(children=(FloatSlider(value=2.0, description='Max |η|', max=3.0), Output()), _dom_classes=('widget…"
      ]
     },
     "metadata": {},
     "output_type": "display_data"
    }
   ],
   "source": [
    "import pyhepmc\n",
    "import matplotlib.pyplot as plt\n",
    "import numpy as np\n",
    "import ipywidgets as widgets\n",
    "from ipywidgets import interact\n",
    "\n",
    "# File path\n",
    "hepmc_file = \"data/top.hepmc\"\n",
    "\n",
    "# Define PID codes for electrons and muons\n",
    "electron_pids = {11, -11}  # e⁻, e⁺\n",
    "muon_pids = {13, -13}  # μ⁻, μ⁺\n",
    "\n",
    "# Function to calculate transverse momentum (pT) and pseudorapidity (η)\n",
    "def calculate_kinematics(p):\n",
    "    pt = np.sqrt(p.px**2 + p.py**2)\n",
    "    eta = 0.5 * np.log((p.e + p.pz) / (p.e - p.pz)) if abs(p.e - p.pz) > 0 else 0\n",
    "    return pt, abs(eta)\n",
    "\n",
    "# Load events and extract electrons/muons with status=2\n",
    "def load_events(hepmc_file):\n",
    "    electrons = []\n",
    "    muons = []\n",
    "\n",
    "    with pyhepmc.open(hepmc_file) as f:\n",
    "        for event in f:\n",
    "            for particle in event.particles:\n",
    "                if particle.status == 1:  # Select only status=2 particles\n",
    "                    pt, eta = calculate_kinematics(particle.momentum)\n",
    "\n",
    "                    if particle.pid in electron_pids:\n",
    "                        electrons.append((pt, eta))\n",
    "                    elif particle.pid in muon_pids:\n",
    "                        muons.append((pt, eta))\n",
    "\n",
    "    return electrons, muons\n",
    "\n",
    "# Load data\n",
    "electrons, muons = load_events(hepmc_file)\n",
    "\n",
    "# Function to plot histogram with η restriction\n",
    "def plot_pt_distribution(max_eta=2.5):\n",
    "\n",
    "    filtered_electrons = [pt for pt, eta in electrons if eta <= max_eta]\n",
    "    filtered_muons = [pt for pt, eta in muons if eta <= max_eta]\n",
    "\n",
    "    plt.figure(figsize=(8, 6))\n",
    "    plt.hist(filtered_electrons, bins=50, alpha=0.6, color='blue', edgecolor='black', label=\"Electrons\")\n",
    "    plt.hist(filtered_muons, bins=50, alpha=0.6, color='red', edgecolor='black', label=\"Muons\")\n",
    "\n",
    "    plt.xlabel(\"Transverse Momentum (GeV)\")\n",
    "    plt.ylabel(\"Frequency\")\n",
    "    plt.title(f\"Transverse Momentum Distribution (|η| ≤ {max_eta})\")\n",
    "    plt.yscale(\"log\")  # Log scale for better visibility\n",
    "    plt.legend()\n",
    "    plt.grid(True)\n",
    "    plt.show()\n",
    "\n",
    "# Create an interactive slider for η restriction\n",
    "interact(plot_pt_distribution, max_eta=widgets.FloatSlider(min=0, max=3.0, step=0.1, value=2, description=\"Max |η|\"));"
   ]
  },
  {
   "cell_type": "code",
   "execution_count": null,
   "id": "7ad8068b-f7ff-47c9-a513-30715c6fe69b",
   "metadata": {},
   "outputs": [],
   "source": []
  }
 ],
 "metadata": {
  "kernelspec": {
   "display_name": "Python 3 (ipykernel)",
   "language": "python",
   "name": "python3"
  },
  "language_info": {
   "codemirror_mode": {
    "name": "ipython",
    "version": 3
   },
   "file_extension": ".py",
   "mimetype": "text/x-python",
   "name": "python",
   "nbconvert_exporter": "python",
   "pygments_lexer": "ipython3",
   "version": "3.13.2"
  }
 },
 "nbformat": 4,
 "nbformat_minor": 5
}
